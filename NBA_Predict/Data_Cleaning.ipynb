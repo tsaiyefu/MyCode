{
 "cells": [
  {
   "cell_type": "code",
   "execution_count": 18,
   "metadata": {
    "collapsed": true
   },
   "outputs": [],
   "source": [
    "import os\n",
    "import time\n",
    "import queue\n",
    "import requests\n",
    "import threading\n",
    "import numpy as np\n",
    "import pandas as pd\n",
    "from bs4 import BeautifulSoup\n",
    "from selenium import webdriver\n",
    "from selenium.webdriver.chrome.options import Options"
   ]
  },
  {
   "cell_type": "markdown",
   "metadata": {},
   "source": [
    "# combine each player in one game as a gamelog"
   ]
  },
  {
   "cell_type": "code",
   "execution_count": 22,
   "metadata": {
    "collapsed": false,
    "scrolled": false
   },
   "outputs": [
    {
     "name": "stdout",
     "output_type": "stream",
     "text": [
      "Cost 59.159528 s\n"
     ]
    }
   ],
   "source": [
    "tStart = time.time()\n",
    "# for i in range(2007, 2019):\n",
    "for i in range(2019, 2020):\n",
    "    mypath = 'C:\\\\Users\\\\ecom\\\\Desktop\\\\NBAData\\\\' + str(i)\n",
    "    side = os.listdir(mypath)\n",
    "    for j in side:\n",
    "        mypath = 'C:\\\\Users\\\\ecom\\\\Desktop\\\\NBAData\\\\' + str(i) + '\\\\' + j\n",
    "        team = os.listdir(mypath)\n",
    "        for k in team:\n",
    "            \n",
    "            mypath = 'C:\\\\Users\\\\ecom\\\\Desktop\\\\NBAData\\\\' + str(i) + '\\\\' + j + '\\\\' + k\n",
    "            df = pd.read_excel(mypath + '\\\\total.xlsx')\n",
    "            d = df['Date']\n",
    "            date = list(d.unique())\n",
    "            dropcol = ['index', 'Rk', 'G', 'Age', 'GS', 'MP']\n",
    "            df = df.drop(dropcol, axis=1)\n",
    "            ac = pd.DataFrame(columns=df.columns)\n",
    "            for l in date:\n",
    "                df = pd.read_excel(mypath + '\\\\total.xlsx')\n",
    "                df.sort_values(by='Date')\n",
    "                df = df.loc[df['Date'] == l, ]\n",
    "                df = df.drop(dropcol, axis=1)\n",
    "                dftest = df.loc[df['Date'] == l, ]\n",
    "                dfsingle = list(dftest.iloc[1,:5])\n",
    "                dfdate = df.loc[df['Date'] == l, ]\n",
    "                dfdate = dfdate.drop(['Date', 'Tm', 'Unnamed: 5', 'Opp', 'Unnamed: 7'],axis=1)\n",
    "                dfdate = list(dfdate.sum())\n",
    "                dfall = dfsingle + dfdate\n",
    "                dic = {}\n",
    "                for m in range(len(dfall)):\n",
    "                    dic[df.columns[m]] = dfall[m]\n",
    "                ac = ac.append(dic, ignore_index=True)\n",
    "            ac['Unnamed: 5'] = ac['Unnamed: 5'].fillna('away')\n",
    "            ac['Unnamed: 5'] = ac['Unnamed: 5'].replace('@', 'home')\n",
    "            alist = []\n",
    "            for n in ac['Unnamed: 7']:\n",
    "                a = ''\n",
    "                for o in n:\n",
    "                    if o == ' ':\n",
    "                        break\n",
    "                    else:\n",
    "                        a = a + o\n",
    "                alist.append(a)\n",
    "            ac['Unnamed: 7'] = alist\n",
    "            ac['Unnamed: 7'] = ac['Unnamed: 7'].replace('L', 0)\n",
    "            ac['Unnamed: 7'] = ac['Unnamed: 7'].replace('W', 1)\n",
    "            ac = ac.rename(columns={'Unnamed: 5': 'place', 'Unnamed: 7': 'result'})\n",
    "            ac = ac[['Date', 'Tm', 'place', 'Opp', 'FG', 'FGA', 'FG%', '3P', '3PA',\n",
    "                   '3P%', 'FT', 'FTA', 'FT%', 'ORB', 'DRB', 'TRB', 'AST', 'STL', 'BLK',\n",
    "                   'TOV', 'PF', 'PTS', 'GmSc', '+/-', 'result']]\n",
    "            path = 'C:\\\\Users\\\\ecom\\\\Desktop\\\\NBAData\\\\gamelog' + '\\\\' + str(i) + '\\\\' + j + '\\\\' + k\n",
    "            if not os.path.isdir(path):\n",
    "                os.makedirs(path)\n",
    "            ac.to_excel(path + '\\\\gamelog.xlsx')\n",
    "tEnd = time.time()\n",
    "print('Cost %f s' %(tEnd - tStart))"
   ]
  },
  {
   "cell_type": "markdown",
   "metadata": {},
   "source": [
    "# Pre-Processing data to home minus away in a game"
   ]
  },
  {
   "cell_type": "code",
   "execution_count": 23,
   "metadata": {
    "collapsed": false,
    "scrolled": false
   },
   "outputs": [
    {
     "name": "stdout",
     "output_type": "stream",
     "text": [
      "Cost 7.673000 s\n"
     ]
    }
   ],
   "source": [
    "tStart = time.time()\n",
    "# for k in range(2007, 2019):\n",
    "for k in range(2019, 2020):\n",
    "    mypath = 'C:\\\\Users\\\\ecom\\\\Desktop\\\\NBAData\\\\gamelog\\\\' + str(k)\n",
    "    side = os.listdir(mypath)\n",
    "    for l in side:\n",
    "        mypath = 'C:\\\\Users\\\\ecom\\\\Desktop\\\\NBAData\\\\gamelog\\\\' + str(k) + '\\\\' + l\n",
    "        team = os.listdir(mypath)\n",
    "        for m in team:\n",
    "            teamlog = []\n",
    "            mypath = 'C:\\\\Users\\\\ecom\\\\Desktop\\\\NBAData\\\\gamelog\\\\' + str(k) + '\\\\' + l + '\\\\' + m\n",
    "            df = pd.read_excel(mypath + '\\\\gamelog.xlsx')\n",
    "            for i in range(len(df)):\n",
    "                sli = []\n",
    "                opponent = df.loc[i,][3]\n",
    "                if opponent == 'NJN':\n",
    "                    opponent = 'BRK'\n",
    "                elif opponent == 'CHA':\n",
    "                    opponent = 'CHO'\n",
    "                elif opponent == 'NOK' or opponent == 'NOH':\n",
    "                    opponent = 'NOP'\n",
    "                elif opponent == 'SEA':\n",
    "                    opponent = 'OKC'\n",
    "                else:\n",
    "                    opponent = opponent\n",
    "                gamedate = df.loc[i,][0]\n",
    "                count = 0\n",
    "                for t in team:\n",
    "                    if opponent != t:\n",
    "                        continue\n",
    "                    else:\n",
    "                        count = count + 1\n",
    "                if count > 0:\n",
    "                    getpath = ('C:\\\\Users\\\\ecom\\\\Desktop\\\\NBAData\\\\gamelog\\\\' + str(k) + '\\\\' + l + '\\\\' + opponent + '\\\\gamelog.xlsx')\n",
    "                else:\n",
    "                    if l == 'East':\n",
    "                        getpath = ('C:\\\\Users\\\\ecom\\\\Desktop\\\\NBAData\\\\gamelog\\\\' + str(k) + '\\\\West\\\\' + opponent + '\\\\gamelog.xlsx')\n",
    "                    else:\n",
    "                        getpath = ('C:\\\\Users\\\\ecom\\\\Desktop\\\\NBAData\\\\gamelog\\\\' + str(k) + '\\\\East\\\\' + opponent + '\\\\gamelog.xlsx')\n",
    "                dfo = pd.read_excel(getpath)\n",
    "                dfone = list(dfo[dfo.Date == gamedate].loc[dfo[dfo.Date == gamedate].index.values[0]])\n",
    "                for z in range(4):\n",
    "                    sli.append(df.loc[i][z])\n",
    "                for j in range(4,24):\n",
    "                    a = df.loc[i][j] - dfone[j]\n",
    "                    sli.append(a)\n",
    "                sli.append(df.loc[i][24])\n",
    "                teamlog.append(sli)\n",
    "            df1 = pd.DataFrame(teamlog, columns=df.columns)\n",
    "            df1.to_excel('C:\\\\Users\\\\ecom\\\\Desktop\\\\NBAData\\\\gamelog\\\\' + str(k) + '\\\\' + l + '\\\\' + m + '\\\\home_away.xlsx')\n",
    "tEnd = time.time()\n",
    "print('Cost %f s' %(tEnd - tStart))"
   ]
  },
  {
   "cell_type": "markdown",
   "metadata": {},
   "source": [
    "# delete file when get an error"
   ]
  },
  {
   "cell_type": "code",
   "execution_count": 2,
   "metadata": {
    "collapsed": true
   },
   "outputs": [],
   "source": [
    "for i in range(2007, 2019):\n",
    "    mypath = 'C:\\\\Users\\\\ecom\\\\Desktop\\\\NBAData\\\\gamelog\\\\' + str(i)\n",
    "    side = os.listdir(mypath)\n",
    "    for j in side:\n",
    "        mypath = 'C:\\\\Users\\\\ecom\\\\Desktop\\\\NBAData\\\\gamelog\\\\' + str(i) + '\\\\' + j\n",
    "        team = os.listdir(mypath)\n",
    "        for k in team:\n",
    "            teamlog = []\n",
    "            mypath = 'C:\\\\Users\\\\ecom\\\\Desktop\\\\NBAData\\\\gamelog\\\\' + str(i) + '\\\\' + j + '\\\\' + k\n",
    "            if os.path.exists(mypath + '\\\\home_away.xlsx'):\n",
    "                os.remove(mypath + '\\\\home_away.xlsx')\n",
    "            else:\n",
    "                print(mypath + '\\\\home_away.xlsx does not exist!!')"
   ]
  },
  {
   "cell_type": "code",
   "execution_count": 14,
   "metadata": {
    "collapsed": true
   },
   "outputs": [],
   "source": [
    "month = ['october.xlsx', 'november.xlsx', 'december.xlsx', 'january.xlsx', 'february.xlsx', 'march.xlsx', 'april.xlsx']\n",
    "year = os.listdir('C:\\\\Users\\\\ecom\\\\Desktop\\\\NBAData\\\\schedual')\n",
    "for i in year:\n",
    "    mon = os.listdir('C:\\\\Users\\\\ecom\\\\Desktop\\\\NBAData\\\\schedual\\\\' + str(i))\n",
    "    for j in mon:\n",
    "        for k in month:\n",
    "            if j == k:\n",
    "                os.remove('C:\\\\Users\\\\ecom\\\\Desktop\\\\NBAData\\\\schedual\\\\' + str(i) + '\\\\' + j)"
   ]
  },
  {
   "cell_type": "code",
   "execution_count": 13,
   "metadata": {
    "collapsed": false
   },
   "outputs": [
    {
     "name": "stdout",
     "output_type": "stream",
     "text": [
      "2017is completed\n",
      "2018is completed\n",
      "2019is completed\n",
      "Done\n"
     ]
    }
   ],
   "source": [
    "df = pd.read_excel('C:\\\\Users\\\\ecom\\\\Desktop\\\\NBAData\\\\schedual\\\\2019\\\\october.xlsx')\n",
    "for i in range(2017, 2020):\n",
    "    df1 = pd.DataFrame(columns=df.columns)\n",
    "    month = os.listdir('C:\\\\Users\\\\ecom\\\\Desktop\\\\NBAData\\\\schedual\\\\' + str(i))\n",
    "    for j in month:\n",
    "        path = 'C:\\\\Users\\\\ecom\\\\Desktop\\\\NBAData\\\\schedual\\\\' + str(i) + '\\\\' + j\n",
    "        dfcon = pd.read_excel(path)\n",
    "        df1 = df1.append(dfcon, ignore_index=True)\n",
    "    df1 = df1.sort_values(by='Date')\n",
    "    df1.to_excel('C:\\\\Users\\\\ecom\\\\Desktop\\\\NBAData\\\\schedual\\\\' + str(i) + '\\\\' + str(i) + '_season_schedual.xlsx')\n",
    "    print(str(i) + 'is completed')\n",
    "print('Done')"
   ]
  },
  {
   "cell_type": "code",
   "execution_count": 17,
   "metadata": {
    "collapsed": false
   },
   "outputs": [],
   "source": [
    "for i in range(2017, 2020):\n",
    "    df = pd.read_excel('C:\\\\Users\\\\ecom\\\\Desktop\\\\NBAData\\\\schedual\\\\' + str(i) + '_season_schedual.xlsx')\n",
    "    df = df.reset_index(drop=True)\n",
    "    df.to_excel('C:\\\\Users\\\\ecom\\\\Desktop\\\\NBAData\\\\schedual\\\\' + str(i) + '_season_schedual.xlsx')"
   ]
  },
  {
   "cell_type": "markdown",
   "metadata": {},
   "source": [
    "# test"
   ]
  }
 ],
 "metadata": {
  "anaconda-cloud": {},
  "kernelspec": {
   "display_name": "Python [Root]",
   "language": "python",
   "name": "Python [Root]"
  },
  "language_info": {
   "codemirror_mode": {
    "name": "ipython",
    "version": 3
   },
   "file_extension": ".py",
   "mimetype": "text/x-python",
   "name": "python",
   "nbconvert_exporter": "python",
   "pygments_lexer": "ipython3",
   "version": "3.5.1"
  }
 },
 "nbformat": 4,
 "nbformat_minor": 2
}
