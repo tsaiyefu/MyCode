{
 "cells": [
  {
   "cell_type": "code",
   "execution_count": 1,
   "metadata": {},
   "outputs": [],
   "source": [
    "import os\n",
    "import time\n",
    "import queue\n",
    "import requests\n",
    "import threading\n",
    "import numpy as np\n",
    "import pandas as pd\n",
    "from bs4 import BeautifulSoup\n",
    "from selenium import webdriver\n",
    "from selenium.webdriver.chrome.options import Options"
   ]
  },
  {
   "cell_type": "markdown",
   "metadata": {},
   "source": [
    "# check translation players"
   ]
  },
  {
   "cell_type": "code",
   "execution_count": 6,
   "metadata": {},
   "outputs": [
    {
     "name": "stdout",
     "output_type": "stream",
     "text": [
      "Cost 179.299760 s\n"
     ]
    }
   ],
   "source": [
    "tStart = time.time()\n",
    "table = pd.DataFrame(columns=['year', 'side', 'team', 'name', 'afterchange'])\n",
    "for i in range(2007, 2019):\n",
    "    mypath = 'C:\\\\Users\\\\ecom\\\\Desktop\\\\NBAData\\\\' + str(i)\n",
    "    side = os.listdir(mypath)\n",
    "    for j in side:\n",
    "        mypath = 'C:\\\\Users\\\\ecom\\\\Desktop\\\\NBAData\\\\' + str(i) + '\\\\' + j\n",
    "        team = os.listdir(mypath)\n",
    "        for k in team:\n",
    "            mypath = 'C:\\\\Users\\\\ecom\\\\Desktop\\\\NBAData\\\\' + str(i) + '\\\\' + j + '\\\\' + k\n",
    "            player = os.listdir(mypath)\n",
    "            for l in player:\n",
    "                df = pd.read_excel('C:\\\\Users\\\\ecom\\\\Desktop\\\\NBAData\\\\' + str(i) + '\\\\' + j + '\\\\' + k + '\\\\' + l)\n",
    "                change = list(set(df.Tm))\n",
    "                if len(change) > 1:\n",
    "                    for c in change:\n",
    "                        if c != k:\n",
    "                            bftable = pd.DataFrame([[i, j, k, l, c],], columns=['year', 'side', 'team', 'name', 'afterchange'])\n",
    "                            table = table.append(bftable, ignore_index=True)\n",
    "                else:\n",
    "                    continue\n",
    "table.to_excel('C:\\\\Users\\\\ecom\\\\Desktop\\\\NBAData\\\\changeteam.xlsx')\n",
    "tEnd = time.time()\n",
    "print('Cost %f s' %(tEnd - tStart))"
   ]
  },
  {
   "cell_type": "markdown",
   "metadata": {},
   "source": [
    "# change team process"
   ]
  },
  {
   "cell_type": "code",
   "execution_count": 11,
   "metadata": {},
   "outputs": [
    {
     "name": "stdout",
     "output_type": "stream",
     "text": [
      "Cost 173.806813 s\n"
     ]
    }
   ],
   "source": [
    "tStart = time.time()\n",
    "f = open('changeteamlog.txt', 'w', encoding = 'UTF-8')\n",
    "change = pd.read_excel('C:\\\\Users\\\\ecom\\\\Desktop\\\\NBAData\\\\changeteam.xlsx')\n",
    "for i in range(len(change)):\n",
    "    clist = [change.team[i], change.afterchange[i]]\n",
    "    for j in range(len(clist)):\n",
    "        if j == 0:\n",
    "            if clist[j] == 'NJN':\n",
    "                t = 'BRK'\n",
    "            elif clist[j] == 'CHA':\n",
    "                t = 'CHO'\n",
    "            elif clist[j] == 'NOK' or clist[j] == 'NOH':\n",
    "                t = 'NOP'\n",
    "            elif clist[j] == 'SEA':\n",
    "                t = 'OKC'\n",
    "            else:\n",
    "                t = clist[j]\n",
    "        else:\n",
    "            if clist[j] == 'NJN':\n",
    "                at = 'BRK'\n",
    "            elif clist[j] == 'CHA':\n",
    "                at = 'CHO'\n",
    "            elif clist[j] == 'NOK' or clist[j] == 'NOH':\n",
    "                at = 'NOP'\n",
    "            elif clist[j] == 'SEA':\n",
    "                at = 'OKC'\n",
    "            else:\n",
    "                at = clist[j]\n",
    "        \n",
    "    checkside = os.listdir('C:\\\\Users\\\\ecom\\\\Desktop\\\\NBAData\\\\2007\\\\East')\n",
    "    for s1 in checkside:\n",
    "        if s1 == at:\n",
    "            afterside = 'East'\n",
    "            break\n",
    "        else:\n",
    "            afterside = 'West'\n",
    "    \n",
    "    path = 'C:\\\\Users\\\\ecom\\\\Desktop\\\\NBAData\\\\' + str(change.year[i]) + '\\\\' + change.side[i] + '\\\\' + t + '\\\\' + change.name[i]\n",
    "    df = pd.read_excel(path)\n",
    "    bcdf = df.loc[df.Tm == change.team[i]]\n",
    "    if os.path.isdir(path):\n",
    "        os.remove(path)\n",
    "    bcdf.to_excel(path)\n",
    "    path1 = 'C:\\\\Users\\\\ecom\\\\Desktop\\\\NBAData\\\\' + str(change.year[i]) + '\\\\' + afterside + '\\\\' + at + '\\\\' + change.name[i]\n",
    "    acdf = df.loc[df.Tm == change.afterchange[i]]\n",
    "    if os.path.isdir(path1):\n",
    "        os.remove(path1)\n",
    "    acdf.to_excel(path1)\n",
    "    f.write('before_change : ' + path + '\\n')\n",
    "    f.write('after_change : ' + path1 + '\\n')\n",
    "    f.write('--------------------------------------------------------------------------------------------\\n')\n",
    "f.close()\n",
    "tEnd = time.time()\n",
    "print('Cost %f s' %(tEnd - tStart))"
   ]
  },
  {
   "cell_type": "markdown",
   "metadata": {},
   "source": [
    "# concat each season data to a file"
   ]
  },
  {
   "cell_type": "code",
   "execution_count": 2,
   "metadata": {
    "scrolled": true
   },
   "outputs": [
    {
     "name": "stderr",
     "output_type": "stream",
     "text": [
      "C:\\Users\\ecom\\Anaconda3\\lib\\site-packages\\pandas\\core\\frame.py:6211: FutureWarning: Sorting because non-concatenation axis is not aligned. A future version\n",
      "of pandas will change to not sort by default.\n",
      "\n",
      "To accept the future behavior, pass 'sort=False'.\n",
      "\n",
      "To retain the current behavior and silence the warning, pass 'sort=True'.\n",
      "\n",
      "  sort=sort)\n"
     ]
    },
    {
     "name": "stdout",
     "output_type": "stream",
     "text": [
      "Cost 510.032305 s\n"
     ]
    }
   ],
   "source": [
    "tStart = time.time()\n",
    "test = pd.read_excel('C:\\\\Users\\\\ecom\\\\Desktop\\\\NBAData\\\\2007\\\\East\\\\ATL\\\\Cedric Bozeman.xlsx')\n",
    "pp = list(test.columns)\n",
    "\n",
    "pdf = pd.read_excel('C:\\\\Users\\\\ecom\\\\Desktop\\\\NBAData\\\\playerList.xlsx')\n",
    "year = list(pdf.year.unique())\n",
    "team = list(pdf.team.unique())\n",
    "for i in year:\n",
    "    ydf = pdf.loc[pdf.year == i]\n",
    "    for j in team:\n",
    "        df = pd.DataFrame(columns=pp)\n",
    "        tdf = ydf.loc[ydf.team == j]\n",
    "        s1 = tdf.side.unique()\n",
    "        for si in s1:\n",
    "            s = si\n",
    "        mypath = 'C:\\\\Users\\\\ecom\\\\Desktop\\\\NBAData\\\\' + str(i) + '\\\\' + s + '\\\\' + j\n",
    "        files = os.listdir(mypath)\n",
    "        for k in files:\n",
    "            path = mypath + '\\\\' + k\n",
    "            perdf = pd.read_excel(path)\n",
    "            df = df.append(perdf)\n",
    "        df.to_excel('C:\\\\Users\\\\ecom\\\\Desktop\\\\NBAData\\\\' + str(i) + '\\\\' + s + '\\\\' + j + '\\\\total.xlsx')\n",
    "tEnd = time.time()\n",
    "print('Cost %f s' %(tEnd - tStart))"
   ]
  },
  {
   "cell_type": "markdown",
   "metadata": {},
   "source": [
    "# test"
   ]
  },
  {
   "cell_type": "code",
   "execution_count": 14,
   "metadata": {},
   "outputs": [
    {
     "data": {
      "text/html": [
       "<div>\n",
       "<style scoped>\n",
       "    .dataframe tbody tr th:only-of-type {\n",
       "        vertical-align: middle;\n",
       "    }\n",
       "\n",
       "    .dataframe tbody tr th {\n",
       "        vertical-align: top;\n",
       "    }\n",
       "\n",
       "    .dataframe thead th {\n",
       "        text-align: right;\n",
       "    }\n",
       "</style>\n",
       "<table border=\"1\" class=\"dataframe\">\n",
       "  <thead>\n",
       "    <tr style=\"text-align: right;\">\n",
       "      <th></th>\n",
       "      <th>year</th>\n",
       "      <th>side</th>\n",
       "      <th>team</th>\n",
       "      <th>name</th>\n",
       "      <th>afterchange</th>\n",
       "    </tr>\n",
       "  </thead>\n",
       "  <tbody>\n",
       "    <tr>\n",
       "      <th>0</th>\n",
       "      <td>2007</td>\n",
       "      <td>East</td>\n",
       "      <td>BRK</td>\n",
       "      <td>Bernard Robinson.xlsx</td>\n",
       "      <td>CHA</td>\n",
       "    </tr>\n",
       "  </tbody>\n",
       "</table>\n",
       "</div>"
      ],
      "text/plain": [
       "   year  side team                   name afterchange\n",
       "0  2007  East  BRK  Bernard Robinson.xlsx         CHA"
      ]
     },
     "execution_count": 14,
     "metadata": {},
     "output_type": "execute_result"
    }
   ],
   "source": [
    "bftable = pd.DataFrame([[i, j, k, l, c],], columns=['year', 'side', 'team', 'name', 'afterchange'])\n",
    "bftable"
   ]
  },
  {
   "cell_type": "code",
   "execution_count": 63,
   "metadata": {},
   "outputs": [
    {
     "name": "stdout",
     "output_type": "stream",
     "text": [
      "C:\\Users\\ecom\\Desktop\\NBAData\\2007\\East\\TOR\\Juan Dixon.xlsx\n"
     ]
    }
   ],
   "source": [
    "print('C:\\\\Users\\\\ecom\\\\Desktop\\\\NBAData\\\\' + str(i) + '\\\\' + s + '\\\\' + j + '\\\\' + k + '.xlsx')"
   ]
  },
  {
   "cell_type": "code",
   "execution_count": 65,
   "metadata": {},
   "outputs": [
    {
     "name": "stdout",
     "output_type": "stream",
     "text": [
      "['Cedric Bozeman.xlsx', 'Dijon Thompson.xlsx', 'Esteban Batista.xlsx', 'Joe Johnson.xlsx', 'Josh Childress.xlsx', 'Josh Smith.xlsx', 'Lorenzen Wright.xlsx', 'Marvin Williams.xlsx', 'Matt Freije.xlsx', 'Royal Ivey.xlsx', 'Salim Stoudamire.xlsx', 'Shelden Williams.xlsx', 'Solomon Jones.xlsx', 'Speedy Claxton.xlsx', 'Stanislav Medvedenko.xlsx', 'Tyronn Lue.xlsx', 'Zaza Pachulia.xlsx']\n"
     ]
    }
   ],
   "source": [
    "mypath = 'C:\\\\Users\\\\ecom\\\\Desktop\\\\NBAData\\\\2007\\\\East\\\\ATL'\n",
    "files = os.listdir(mypath)\n",
    "print(files)"
   ]
  },
  {
   "cell_type": "code",
   "execution_count": 55,
   "metadata": {},
   "outputs": [
    {
     "data": {
      "text/plain": [
       "'East'"
      ]
     },
     "execution_count": 55,
     "metadata": {},
     "output_type": "execute_result"
    }
   ],
   "source": [
    "s1 = plist.side[plist.team == 'ATL'].unique()\n",
    "for i in s1:\n",
    "    s = i\n",
    "s"
   ]
  },
  {
   "cell_type": "code",
   "execution_count": 9,
   "metadata": {},
   "outputs": [],
   "source": [
    "test = pd.read_excel('C:\\\\Users\\\\ecom\\\\Desktop\\\\NBAData\\\\2007\\\\East\\\\ATL\\\\Cedric Bozeman.xlsx')\n",
    "tt = list(test.Tm)\n",
    "for i in tt:\n",
    "    if i != 'ATL':\n",
    "        print(i)"
   ]
  },
  {
   "cell_type": "code",
   "execution_count": 20,
   "metadata": {},
   "outputs": [
    {
     "data": {
      "text/plain": [
       "'C:\\\\Users\\\\ecom\\\\Desktop\\\\NBAData\\\\2007\\\\East\\\\BRK\\\\Bernard Robinson.xlsx'"
      ]
     },
     "execution_count": 20,
     "metadata": {},
     "output_type": "execute_result"
    }
   ],
   "source": [
    "change = pd.read_excel('C:\\\\Users\\\\ecom\\\\Desktop\\\\NBAData\\\\changeteam.xlsx')\n",
    "i = 0\n",
    "path = 'C:\\\\Users\\\\ecom\\\\Desktop\\\\NBAData\\\\' + str(change.year[i]) + '\\\\' + change.side[i] + '\\\\' + change.team[i] + '\\\\' + change.name[i]\n",
    "path"
   ]
  },
  {
   "cell_type": "code",
   "execution_count": 9,
   "metadata": {},
   "outputs": [
    {
     "data": {
      "text/plain": [
       "['ATL',\n",
       " 'BOS',\n",
       " 'BRK',\n",
       " 'CHI',\n",
       " 'CHO',\n",
       " 'CLE',\n",
       " 'DET',\n",
       " 'IND',\n",
       " 'MIA',\n",
       " 'MIL',\n",
       " 'NYK',\n",
       " 'ORL',\n",
       " 'PHI',\n",
       " 'TOR',\n",
       " 'WAS']"
      ]
     },
     "execution_count": 9,
     "metadata": {},
     "output_type": "execute_result"
    }
   ],
   "source": [
    "checkside = os.listdir('C:\\\\Users\\\\ecom\\\\Desktop\\\\NBAData\\\\2007\\\\East')\n",
    "checkside"
   ]
  }
 ],
 "metadata": {
  "kernelspec": {
   "display_name": "Python 3",
   "language": "python",
   "name": "python3"
  },
  "language_info": {
   "codemirror_mode": {
    "name": "ipython",
    "version": 3
   },
   "file_extension": ".py",
   "mimetype": "text/x-python",
   "name": "python",
   "nbconvert_exporter": "python",
   "pygments_lexer": "ipython3",
   "version": "3.7.0"
  }
 },
 "nbformat": 4,
 "nbformat_minor": 2
}
